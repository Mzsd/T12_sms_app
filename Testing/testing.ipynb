{
 "cells": [
  {
   "cell_type": "code",
   "execution_count": 1,
   "metadata": {},
   "outputs": [],
   "source": [
    "import xmltodict\n",
    "import requests\n",
    "import json\n",
    "import bs4"
   ]
  },
  {
   "cell_type": "code",
   "execution_count": 2,
   "metadata": {},
   "outputs": [],
   "source": [
    "with open(\"config.json\") as f:\n",
    "    config = json.load(f)"
   ]
  },
  {
   "cell_type": "code",
   "execution_count": 3,
   "metadata": {},
   "outputs": [],
   "source": [
    "with open(\"payload_data.json\") as fp:\n",
    "    headers = json.load(fp)"
   ]
  },
  {
   "cell_type": "code",
   "execution_count": 4,
   "metadata": {},
   "outputs": [],
   "source": [
    "session = None\n",
    "profile = None\n",
    "def authenticate():\n",
    "    global session\n",
    "    global profile\n",
    "    \n",
    "    data =  {\n",
    "        \"username\": config['user'],\n",
    "        \"password\": config['passw'],\n",
    "        \"client\": \"mRIC\"\n",
    "    }\n",
    "\n",
    "    auth_requests = requests.post(  \"https://mlog.unitymedia.de/getprofiles/ajax-getprofiles\", \n",
    "                                    data=data, \n",
    "                                    headers=headers['headersAuthentication'])\n",
    "\n",
    "    text_dict = xmltodict.parse(auth_requests.text)\n",
    "    session = text_dict['profiles']['session']\n",
    "    profile =   text_dict['profiles']['profile'][-1] \\\n",
    "                if type(text_dict['profiles']['profile']) == list \\\n",
    "                else text_dict['profiles']['profile']"
   ]
  },
  {
   "cell_type": "code",
   "execution_count": 5,
   "metadata": {},
   "outputs": [
    {
     "data": {
      "text/plain": [
       "('4bc16c07-b02e-49db-910c-5fcb4d9a9f3a', 'Innendienst Disponent (FS)')"
      ]
     },
     "execution_count": 5,
     "metadata": {},
     "output_type": "execute_result"
    }
   ],
   "source": [
    "authenticate()\n",
    "session, profile"
   ]
  },
  {
   "cell_type": "code",
   "execution_count": 6,
   "metadata": {},
   "outputs": [],
   "source": [
    "def generate_records(order_dict, data):\n",
    "\n",
    "    for row in data:\n",
    "        idx = 0\n",
    "        # print(len(row))\n",
    "        for k, col in enumerate(order_dict):\n",
    "            if idx >= len(row):\n",
    "                # print(\"FIRST IF:\", col, idx, k)\n",
    "                order_dict[col].append('')\n",
    "            elif int(row[idx]['colid']) == k+1:\n",
    "                # print(\"SeCOND IF:\", col, idx, k)\n",
    "                order_dict[col].append(row[idx]['value'])\n",
    "                idx += 1\n",
    "            elif int(row[idx]['colid']) > k+1:\n",
    "                # print(\"THIRD IF:\", col, idx, k)\n",
    "                order_dict[col].append('')"
   ]
  },
  {
   "cell_type": "code",
   "execution_count": 7,
   "metadata": {},
   "outputs": [],
   "source": [
    "# def load_jms(user, session, profile):\n",
    "#     with open('jms_payload.xml') as fp:\n",
    "#         xml_str = fp.read()\n",
    "        \n",
    "#     xml = xmltodict.parse(xml_str)\n",
    "#     xml_property = xml['message']['properties']['property']\n",
    "#     xml_property[0]['@value'] = user\n",
    "#     xml_property[1]['@value'] = session\n",
    "#     xml_property[2]['@value'] = profile\n",
    "    \n",
    "#     return xmltodict.unparse(xml)"
   ]
  },
  {
   "cell_type": "code",
   "execution_count": 8,
   "metadata": {},
   "outputs": [],
   "source": [
    "# def fetch_request(xml, query, query_type, entity, jms=True):\n",
    "#     xml = xmltodict.parse(xml)\n",
    "#     xml['message']['meta']['type'] = query_type\n",
    "#     xml['message']['body'] = xmltodict.parse(entity)\n",
    "#     if jms:\n",
    "#         print(\"\\n\", xmltodict.unparse(xml), \"\\n\")\n",
    "#         url = f'https://mlog.unitymedia.de/jmsbridge/jms;{query_type}'\n",
    "#         print(\"\\n\", url, \"\\n\")\n",
    "#     else:\n",
    "#         url = f'https://mlog.unitymedia.de/queryExecution/queryExecution;{query}'\n",
    "\n",
    "#     return requests.post(   url,\n",
    "#                             headers=headers,\n",
    "#                             data=xmltodict.unparse(xml))"
   ]
  },
  {
   "cell_type": "code",
   "execution_count": 9,
   "metadata": {},
   "outputs": [],
   "source": [
    "# ## Fetch contact number\n",
    "\n",
    "# query, query_type, entity = jms_requests.bind_email_template(row['TASKID'])\n",
    "# response = self.fetch_request(query, query_type, entity)\n",
    "# # print(\"response: \", response.content)\n",
    "# response_xml = xmltodict.parse(response.text)\n",
    "# sms_text = response_xml['message']['body']['entity']['field'][0]['@value']\n",
    "\n",
    "# ## END\n",
    "# print(f'\\n{sms_text}')\n",
    "\n",
    "# ## Send sms\n",
    "\n",
    "# query, query_type, entity = jms_requests.send_sms(row['TASKID'], row['PHONE2'], sms_text)\n",
    "# response = self.fetch_request(query, query_type, entity)\n",
    "\n",
    "# ## END\n",
    "# print('\\n', \"sms_resp:\", response.text, ' sms_status:', response.status_code)"
   ]
  },
  {
   "cell_type": "code",
   "execution_count": 10,
   "metadata": {},
   "outputs": [],
   "source": [
    "params = {\n",
    "    'timeout': '60000',\n",
    "}\n",
    "\n",
    "data = f'<?xml version=\"1.0\" encoding=\"utf-8\" standalone=\"yes\"?>\\n<message xmlns=\"http://www.logobject.ch/schema-ns/jmsoverxml\">\\n  <meta>\\n    <type>bindEMailTemplateRequest</type>\\n    <expectResponse>true</expectResponse>\\n  </meta>\\n  <properties>\\n    <property type=\"string\" name=\"username\" value=\"Dobre.Vanessa\" />\\n    <property type=\"string\" name=\"token\" value=\"{session}\" />\\n    <property type=\"string\" name=\"userprofile\" value=\"{profile}\" />\\n    <property type=\"string\" name=\"txtimeout\" value=\"60\" />\\n  </properties>\\n  <body>\\n    <entity class=\"ch.logobject.mlogistics.bl.msg.BindEMailTemplateRequest\" xmlns=\"\">\\n      <field name=\"bodyText\" value=\"Hallo Vodafone-Kund:in, leider haben wir Dich nicht erreicht. Ruf uns bitte an, um Deinen Termin mit dem Technik-Service zu vereinbaren: $RegionContact.Contact(CONTACT).contactInformation.phone$ Vielen Dank! Freundliche Grüße, Dein Vodafone-Team\" />\\n      <field name=\"emailTemplateId\" value=\"44\" />\\n      <field name=\"taskId\" value=\"9373412\" />\\n    </entity>\\n  </body>\\n</message>'.encode()\n",
    "\n",
    "response = requests.post(\n",
    "    'https://mlog.unitymedia.de/jmsbridge/jms/bindEMailTemplateRequest',\n",
    "    params=params,\n",
    "    headers=headers['headers'],\n",
    "    data=data,\n",
    ")"
   ]
  },
  {
   "cell_type": "code",
   "execution_count": 11,
   "metadata": {},
   "outputs": [
    {
     "data": {
      "text/plain": [
       "b'<?xml version=\"1.0\" encoding=\"UTF-8\"?>\\r\\n<message xmlns=\"http://www.logobject.ch/schema-ns/jmsoverxml\" xmlns:xsi=\"http://www.w3.org/2001/XMLSchema-instance\" xsi:schemaLocation=\"http://www.logobject.ch/schema-ns/jmsoverxml jmsoverxml.xsd\">\\r\\n  <meta>\\r\\n    <id>855a4d24-175f-443e-b527-e6f6e6b17b32</id>\\r\\n    <correlationid>734ee24d-473e-406c-9f90-cf4fd2b6aa4c</correlationid>\\r\\n    <type>bindEMailTemplateResponse</type>\\r\\n    <expiration>0</expiration>\\r\\n    <priority>4</priority>\\r\\n    <redelivered>false</redelivered>\\r\\n    <timestamp>1706793932100</timestamp>\\r\\n    <expectResponse>false</expectResponse>\\r\\n  </meta>\\r\\n  <properties />\\r\\n  <body>\\r\\n    <entity xmlns=\"\" class=\"ch.logobject.mlogistics.bl.msg.BindEMailTemplateResponse\">\\r\\n      <field name=\"bodyText\" value=\"Hallo Vodafone-Kund:in, leider haben wir Dich nicht erreicht. Ruf uns bitte an, um Deinen Termin mit dem Technik-Service zu vereinbaren: 0771 8006460 Vielen Dank! Freundliche Gr\\xc3\\xbc\\xc3\\x9fe, Dein Vodafone-Team\" />\\r\\n      <field name=\"emailTemplateId\" value=\"44\" />\\r\\n      <field name=\"html\" value=\"false\" />\\r\\n      <field name=\"subjectText\" value=\"SMS\" />\\r\\n      <field name=\"templateBodyText\" value=\"Hallo Vodafone-Kund:in, leider haben wir Dich nicht erreicht. Ruf uns bitte an, um Deinen Termin mit dem Technik-Service zu vereinbaren: $RegionContact.Contact(CONTACT).contactInformation.phone$ Vielen Dank! Freundliche Gr\\xc3\\xbc\\xc3\\x9fe, Dein Vodafone-Team\" />\\r\\n      <field name=\"templateSubjectText\" value=\"SMS\" />\\r\\n      <field name=\"timestamp\" value=\"2024-02-01T13:25:32Z\" />\\r\\n    </entity>\\r\\n  </body>\\r\\n</message>\\r\\n\\r\\n'"
      ]
     },
     "execution_count": 11,
     "metadata": {},
     "output_type": "execute_result"
    }
   ],
   "source": [
    "response.content"
   ]
  },
  {
   "cell_type": "code",
   "execution_count": 12,
   "metadata": {},
   "outputs": [],
   "source": [
    "first_response_soup = bs4.BeautifulSoup(response.text, features=\"xml\")"
   ]
  },
  {
   "cell_type": "code",
   "execution_count": 13,
   "metadata": {},
   "outputs": [
    {
     "data": {
      "text/plain": [
       "<?xml version=\"1.0\" encoding=\"utf-8\"?>\n",
       "<message xmlns=\"http://www.logobject.ch/schema-ns/jmsoverxml\" xmlns:xsi=\"http://www.w3.org/2001/XMLSchema-instance\" xsi:schemaLocation=\"http://www.logobject.ch/schema-ns/jmsoverxml jmsoverxml.xsd\">\n",
       "<meta>\n",
       "<id>855a4d24-175f-443e-b527-e6f6e6b17b32</id>\n",
       "<correlationid>734ee24d-473e-406c-9f90-cf4fd2b6aa4c</correlationid>\n",
       "<type>bindEMailTemplateResponse</type>\n",
       "<expiration>0</expiration>\n",
       "<priority>4</priority>\n",
       "<redelivered>false</redelivered>\n",
       "<timestamp>1706793932100</timestamp>\n",
       "<expectResponse>false</expectResponse>\n",
       "</meta>\n",
       "<properties/>\n",
       "<body>\n",
       "<entity class=\"ch.logobject.mlogistics.bl.msg.BindEMailTemplateResponse\" xmlns=\"\">\n",
       "<field name=\"bodyText\" value=\"Hallo Vodafone-Kund:in, leider haben wir Dich nicht erreicht. Ruf uns bitte an, um Deinen Termin mit dem Technik-Service zu vereinbaren: 0771 8006460 Vielen Dank! Freundliche GrÃ¼Ãe, Dein Vodafone-Team\"/>\n",
       "<field name=\"emailTemplateId\" value=\"44\"/>\n",
       "<field name=\"html\" value=\"false\"/>\n",
       "<field name=\"subjectText\" value=\"SMS\"/>\n",
       "<field name=\"templateBodyText\" value=\"Hallo Vodafone-Kund:in, leider haben wir Dich nicht erreicht. Ruf uns bitte an, um Deinen Termin mit dem Technik-Service zu vereinbaren: $RegionContact.Contact(CONTACT).contactInformation.phone$ Vielen Dank! Freundliche GrÃ¼Ãe, Dein Vodafone-Team\"/>\n",
       "<field name=\"templateSubjectText\" value=\"SMS\"/>\n",
       "<field name=\"timestamp\" value=\"2024-02-01T13:25:32Z\"/>\n",
       "</entity>\n",
       "</body>\n",
       "</message>"
      ]
     },
     "execution_count": 13,
     "metadata": {},
     "output_type": "execute_result"
    }
   ],
   "source": [
    "first_response_soup"
   ]
  },
  {
   "cell_type": "code",
   "execution_count": 14,
   "metadata": {},
   "outputs": [],
   "source": [
    "params = {\n",
    "    'timeout': '60000',\n",
    "}\n",
    "\n",
    "data = f'<?xml version=\"1.0\" encoding=\"utf-8\" standalone=\"yes\"?>\\n<message xmlns=\"http://www.logobject.ch/schema-ns/jmsoverxml\">\\n  <meta>\\n    <type>sendSmsRequest</type>\\n    <expectResponse>true</expectResponse>\\n  </meta>\\n  <properties>\\n    <property type=\"string\" name=\"username\" value=\"Dobre.Vanessa\" />\\n    <property type=\"string\" name=\"token\" value=\"{session}\" />\\n    <property type=\"string\" name=\"userprofile\" value=\"{profile}\" />\\n    <property type=\"string\" name=\"txtimeout\" value=\"60\" />\\n  </properties>\\n  <body>\\n    <entity class=\"ch.logobject.mlogistics.bl.msg.SendSmsRequest\" xmlns=\"\">\\n      <field name=\"emailTemplate\" value=\"SMS_KUNDE_RÜCKRUFBITTE\" />\\n      <field name=\"messageText\" value=\"Hallo Vodafone-Kund:in, leider haben wir Dich nicht erreicht. Ruf uns bitte an, um Deinen Termin mit dem Technik-Service zu vereinbaren: 0771 8006460 Vielen Dank! Freundliche Grüße, Dein Vodafone-Team\" />\\n      <field name=\"messageType\" value=\"task\" />\\n      <field name=\"mobileNumbers\" value=\"{{\\'+4915161302414\\'}}\" />\\n      <field name=\"taskId\" value=\"9373412\" />\\n    </entity>\\n  </body>\\n</message>'.encode()\n",
    "\n",
    "response = requests.post(\n",
    "    'https://mlog.unitymedia.de/jmsbridge/jms/sendSmsRequest',\n",
    "    params=params,\n",
    "    headers=headers['headers'],\n",
    "    data=data,\n",
    ")"
   ]
  },
  {
   "cell_type": "code",
   "execution_count": 15,
   "metadata": {},
   "outputs": [
    {
     "data": {
      "text/plain": [
       "b'<?xml version=\"1.0\" encoding=\"UTF-8\"?>\\r\\n<message xmlns=\"http://www.logobject.ch/schema-ns/jmsoverxml\" xmlns:xsi=\"http://www.w3.org/2001/XMLSchema-instance\" xsi:schemaLocation=\"http://www.logobject.ch/schema-ns/jmsoverxml jmsoverxml.xsd\">\\r\\n  <meta>\\r\\n    <id>2d7d1edf-3a38-415d-8248-e9e1d6e5d7b0</id>\\r\\n    <correlationid>bb53dca1-20e0-4620-8947-aa02f524a19c</correlationid>\\r\\n    <type>ack</type>\\r\\n    <expiration>0</expiration>\\r\\n    <priority>4</priority>\\r\\n    <redelivered>false</redelivered>\\r\\n    <timestamp>1706793932826</timestamp>\\r\\n    <expectResponse>false</expectResponse>\\r\\n  </meta>\\r\\n  <properties />\\r\\n  <body />\\r\\n</message>\\r\\n\\r\\n'"
      ]
     },
     "execution_count": 15,
     "metadata": {},
     "output_type": "execute_result"
    }
   ],
   "source": [
    "response.content"
   ]
  },
  {
   "cell_type": "code",
   "execution_count": 16,
   "metadata": {},
   "outputs": [],
   "source": [
    "second_response_soup = bs4.BeautifulSoup(response.text, features=\"xml\")"
   ]
  },
  {
   "cell_type": "code",
   "execution_count": 17,
   "metadata": {},
   "outputs": [
    {
     "data": {
      "text/plain": [
       "<?xml version=\"1.0\" encoding=\"utf-8\"?>\n",
       "<message xmlns=\"http://www.logobject.ch/schema-ns/jmsoverxml\" xmlns:xsi=\"http://www.w3.org/2001/XMLSchema-instance\" xsi:schemaLocation=\"http://www.logobject.ch/schema-ns/jmsoverxml jmsoverxml.xsd\">\n",
       "<meta>\n",
       "<id>2d7d1edf-3a38-415d-8248-e9e1d6e5d7b0</id>\n",
       "<correlationid>bb53dca1-20e0-4620-8947-aa02f524a19c</correlationid>\n",
       "<type>ack</type>\n",
       "<expiration>0</expiration>\n",
       "<priority>4</priority>\n",
       "<redelivered>false</redelivered>\n",
       "<timestamp>1706793932826</timestamp>\n",
       "<expectResponse>false</expectResponse>\n",
       "</meta>\n",
       "<properties/>\n",
       "<body/>\n",
       "</message>"
      ]
     },
     "execution_count": 17,
     "metadata": {},
     "output_type": "execute_result"
    }
   ],
   "source": [
    "second_response_soup"
   ]
  }
 ],
 "metadata": {
  "kernelspec": {
   "display_name": "base",
   "language": "python",
   "name": "python3"
  },
  "language_info": {
   "codemirror_mode": {
    "name": "ipython",
    "version": 3
   },
   "file_extension": ".py",
   "mimetype": "text/x-python",
   "name": "python",
   "nbconvert_exporter": "python",
   "pygments_lexer": "ipython3",
   "version": "3.11.5"
  }
 },
 "nbformat": 4,
 "nbformat_minor": 2
}
